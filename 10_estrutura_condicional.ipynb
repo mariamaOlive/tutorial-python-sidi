{
 "cells": [
  {
   "cell_type": "markdown",
   "source": [
    "# Curso de Python Básico\n",
    "\n",
    "Este é um curso básico de python que tem o objetivo de apresentar a linguagem python de uma **maneira rápida e objetiva**. Vamos direto ao ponto nos conceitos básicos da programação e python com muita mão na massa! \n",
    "\n",
    "Neste curso, vamos trabalhar no **modo iterativo** do python. Porém, entenda que você pode trabalhar no modo script com várias linhas de código usando um arquivo no formato .py.\n",
    "\n",
    "Ao final desse Curso, espero que você se aprenda python e se motive cada vez mais em utilizar a linguagem para diversas tarefas e problemas do mundo real.\n",
    "\n",
    "Este notebook vai apenas passar pelos tópicos básicos em ordem:\n",
    "\n",
    "* 5. Estrutura condicionais\n",
    "    * 5.1 if\n",
    "    * 5.2 else\n",
    "    * 5.3 elif"
   ],
   "metadata": {}
  },
  {
   "cell_type": "markdown",
   "source": [
    "## 5. Estrutura Condicional\n",
    "- if\n",
    "- else\n",
    "- elif\n",
    "\n",
    "**Indentação**: são espaços que deixamos no inicio da linha de código"
   ],
   "metadata": {}
  },
  {
   "cell_type": "markdown",
   "source": [
    "##### 5.1 Condicional Alternativa"
   ],
   "metadata": {
    "ExecuteTime": {
     "end_time": "2021-08-27T14:12:37.003786Z",
     "start_time": "2021-08-27T14:12:36.997786Z"
    }
   }
  },
  {
   "cell_type": "code",
   "execution_count": null,
   "source": [
    "if 1 > 2:\n",
    "    print('É maior')"
   ],
   "outputs": [],
   "metadata": {}
  },
  {
   "cell_type": "code",
   "execution_count": null,
   "source": [],
   "outputs": [],
   "metadata": {}
  },
  {
   "cell_type": "markdown",
   "source": [
    "##### 5.2 Condicional Endadeada"
   ],
   "metadata": {}
  },
  {
   "cell_type": "code",
   "execution_count": null,
   "source": [
    "if 1 < 2:\n",
    "    print('Primeiro')\n",
    "else:\n",
    "    print('Último')"
   ],
   "outputs": [],
   "metadata": {}
  },
  {
   "cell_type": "code",
   "execution_count": null,
   "source": [
    "if 1 == 2:\n",
    "    print('Primeiro')\n",
    "elif 3 == 3:\n",
    "    print('Meio')\n",
    "else:\n",
    "    print('Último')"
   ],
   "outputs": [],
   "metadata": {}
  },
  {
   "cell_type": "markdown",
   "source": [
    "##### 5.3 Condicional Aninhadas"
   ],
   "metadata": {}
  },
  {
   "cell_type": "code",
   "execution_count": null,
   "source": [
    "if 1 < 0:\n",
    "    print(\"é menor\")\n",
    "elif 0 > 0:\n",
    "    print(\"é maior\")\n",
    "else:\n",
    "    if 1 < 0:\n",
    "        print(\"é menor\")\n",
    "    elif 1 > 0:\n",
    "        print(\"é maior\") "
   ],
   "outputs": [],
   "metadata": {
    "ExecuteTime": {
     "end_time": "2021-08-27T14:13:38.617570Z",
     "start_time": "2021-08-27T14:13:38.608572Z"
    }
   }
  },
  {
   "cell_type": "code",
   "execution_count": null,
   "source": [],
   "outputs": [],
   "metadata": {}
  },
  {
   "cell_type": "markdown",
   "source": [
    "## Agora é sua vez"
   ],
   "metadata": {}
  },
  {
   "cell_type": "markdown",
   "source": [
    "**1) Crie um programa que irá receber uma variável e irá fornecer uma saída. Imprima impar se a variável for impar e par se a variável for par.**"
   ],
   "metadata": {
    "ExecuteTime": {
     "end_time": "2021-09-27T19:00:37.575517Z",
     "start_time": "2021-09-27T19:00:37.555517Z"
    }
   }
  },
  {
   "cell_type": "code",
   "execution_count": 1,
   "source": [
    "numeroInput = int(input(\"Digite um número: \"))\n",
    "\n",
    "if(numeroInput%2 == 0):\n",
    "    print(\"Número par\")\n",
    "else:\n",
    "    print(\"Número ímpar\")"
   ],
   "outputs": [
    {
     "output_type": "stream",
     "name": "stdout",
     "text": [
      "Número ímpar\n"
     ]
    }
   ],
   "metadata": {}
  },
  {
   "cell_type": "markdown",
   "source": [
    "**2) Crie um programa que irá receber uma idade e irá fornecer uma saída. Se a idade for menor do que 12, imprima \"criança\", se a idade for menor do que 18 e maior do que 12, imprima \"adolescente\", se aidade for maior do que 18 e menor do que 60, imprima \"adulto\", senão imprima \"idoso\"**"
   ],
   "metadata": {}
  },
  {
   "cell_type": "code",
   "execution_count": 2,
   "source": [
    "idadeInput = int(input(\"Digite uma idade: \"))\n",
    "\n",
    "if(idadeInput<12):\n",
    "    print(\"criança\")\n",
    "elif(idadeInput<18):\n",
    "    print(\"adolescente\")\n",
    "elif(idadeInput<60):\n",
    "    print(\"adulto\")\n",
    "else:\n",
    "    print(\"idoso\")"
   ],
   "outputs": [
    {
     "output_type": "stream",
     "name": "stdout",
     "text": [
      "adulto\n"
     ]
    }
   ],
   "metadata": {}
  }
 ],
 "metadata": {
  "kernelspec": {
   "name": "python3",
   "display_name": "Python 3.8.8 64-bit (conda)"
  },
  "language_info": {
   "codemirror_mode": {
    "name": "ipython",
    "version": 3
   },
   "file_extension": ".py",
   "mimetype": "text/x-python",
   "name": "python",
   "nbconvert_exporter": "python",
   "pygments_lexer": "ipython3",
   "version": "3.8.8"
  },
  "interpreter": {
   "hash": "497a55ccd77967726baf9146ac7e5bf5a87dae2093827daa4f01845c45abeec8"
  }
 },
 "nbformat": 4,
 "nbformat_minor": 1
}