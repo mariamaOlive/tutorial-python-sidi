{
 "cells": [
  {
   "cell_type": "markdown",
   "source": [
    "# Curso de Python Básico\n",
    "\n",
    "Este é um curso básico de python que tem o objetivo de apresentar a linguagem python de uma **maneira rápida e objetiva**. Vamos direto ao ponto nos conceitos básicos da programação e python com muita mão na massa! \n",
    "\n",
    "Neste curso, vamos trabalhar no **modo iterativo** do python. Porém, entenda que você pode trabalhar no modo script com várias linhas de código usando um arquivo no formato .py.\n",
    "\n",
    "Ao final desse Curso, espero que você se aprenda python e se motive cada vez mais em utilizar a linguagem para diversas tarefas e problemas do mundo real.\n",
    "\n",
    "Este notebook vai apenas passar pelos tópicos básicos em ordem:\n",
    "\n",
    "* 2. Estrutura de dados\n",
    "    * 2.4 Sets"
   ],
   "metadata": {}
  },
  {
   "cell_type": "markdown",
   "source": [
    "## 2. Estrutura de Dados\n",
    "- Listas\n",
    "- Dicionários\n",
    "- Tuplas\n",
    "- Conjuntos"
   ],
   "metadata": {}
  },
  {
   "cell_type": "markdown",
   "source": [
    "#### 2.4 Conjuntos\n",
    "- É uma estrutura de dados utilizada para armazenar valores únicos (distintos)\n",
    "\n",
    "##### 2.4.1 Criando conjuntos"
   ],
   "metadata": {}
  },
  {
   "cell_type": "code",
   "execution_count": 18,
   "source": [
    "lista = [1,2,2,2,2,3,4,5,5,5,5,5,5]\n",
    "conjunto = set(lista)"
   ],
   "outputs": [],
   "metadata": {
    "ExecuteTime": {
     "end_time": "2021-09-27T17:58:51.052867Z",
     "start_time": "2021-09-27T17:58:51.036800Z"
    }
   }
  },
  {
   "cell_type": "code",
   "execution_count": 19,
   "source": [
    "len(conjunto)"
   ],
   "outputs": [
    {
     "output_type": "execute_result",
     "data": {
      "text/plain": [
       "5"
      ]
     },
     "metadata": {},
     "execution_count": 19
    }
   ],
   "metadata": {
    "ExecuteTime": {
     "end_time": "2021-09-27T17:58:57.049579Z",
     "start_time": "2021-09-27T17:58:57.036577Z"
    }
   }
  },
  {
   "cell_type": "code",
   "execution_count": 20,
   "source": [
    "# conjunto vazio\n",
    "conjunto = {}"
   ],
   "outputs": [],
   "metadata": {
    "ExecuteTime": {
     "end_time": "2021-09-27T17:59:32.075631Z",
     "start_time": "2021-09-27T17:59:32.068629Z"
    }
   }
  },
  {
   "cell_type": "code",
   "execution_count": 23,
   "source": [
    "# criando a partir de listas\n",
    "lista = [1,2,3,6]\n",
    "set1 = set(lista)\n",
    "set1"
   ],
   "outputs": [
    {
     "output_type": "execute_result",
     "data": {
      "text/plain": [
       "{1, 2, 3, 6}"
      ]
     },
     "metadata": {},
     "execution_count": 23
    }
   ],
   "metadata": {
    "ExecuteTime": {
     "end_time": "2021-09-27T17:59:48.520402Z",
     "start_time": "2021-09-27T17:59:48.516403Z"
    }
   }
  },
  {
   "cell_type": "markdown",
   "source": [
    "##### 2.4.2 Operações entre conjuntos"
   ],
   "metadata": {
    "ExecuteTime": {
     "end_time": "2021-08-27T14:04:02.192781Z",
     "start_time": "2021-08-27T14:04:02.175782Z"
    }
   }
  },
  {
   "cell_type": "code",
   "execution_count": 32,
   "source": [
    "dic = {'a':1, 'b':2}"
   ],
   "outputs": [],
   "metadata": {
    "ExecuteTime": {
     "end_time": "2021-09-27T18:02:19.123286Z",
     "start_time": "2021-09-27T18:02:19.116282Z"
    }
   }
  },
  {
   "cell_type": "code",
   "execution_count": 36,
   "source": [
    "list(dic.keys())"
   ],
   "outputs": [
    {
     "output_type": "execute_result",
     "data": {
      "text/plain": [
       "['a', 'b']"
      ]
     },
     "metadata": {},
     "execution_count": 36
    }
   ],
   "metadata": {
    "ExecuteTime": {
     "end_time": "2021-09-27T18:02:33.806851Z",
     "start_time": "2021-09-27T18:02:33.787850Z"
    }
   }
  },
  {
   "cell_type": "code",
   "execution_count": 37,
   "source": [
    "set1 = set({1,2,3,4,5,6,7,8,9,10,11,12,13,14,15})\n",
    "set2 = set({2,4,6,8,10,20})"
   ],
   "outputs": [],
   "metadata": {
    "ExecuteTime": {
     "end_time": "2021-09-27T18:03:01.304767Z",
     "start_time": "2021-09-27T18:03:01.291498Z"
    }
   }
  },
  {
   "cell_type": "code",
   "execution_count": 52,
   "source": [
    "set1.intersection(set2)"
   ],
   "outputs": [
    {
     "output_type": "execute_result",
     "data": {
      "text/plain": [
       "{2, 4, 6, 8, 10}"
      ]
     },
     "metadata": {},
     "execution_count": 52
    }
   ],
   "metadata": {
    "ExecuteTime": {
     "end_time": "2021-09-27T18:05:29.067898Z",
     "start_time": "2021-09-27T18:05:29.050513Z"
    }
   }
  },
  {
   "cell_type": "code",
   "execution_count": 39,
   "source": [
    "set1.difference(set2)"
   ],
   "outputs": [
    {
     "output_type": "execute_result",
     "data": {
      "text/plain": [
       "{1, 3, 5, 7, 9, 11, 12, 13, 14, 15}"
      ]
     },
     "metadata": {},
     "execution_count": 39
    }
   ],
   "metadata": {
    "ExecuteTime": {
     "end_time": "2021-09-27T18:03:01.705988Z",
     "start_time": "2021-09-27T18:03:01.698988Z"
    }
   }
  },
  {
   "cell_type": "code",
   "execution_count": 40,
   "source": [
    "set1.union(set2)"
   ],
   "outputs": [
    {
     "output_type": "execute_result",
     "data": {
      "text/plain": [
       "{1, 2, 3, 4, 5, 6, 7, 8, 9, 10, 11, 12, 13, 14, 15, 20}"
      ]
     },
     "metadata": {},
     "execution_count": 40
    }
   ],
   "metadata": {
    "ExecuteTime": {
     "end_time": "2021-09-27T18:03:01.986030Z",
     "start_time": "2021-09-27T18:03:01.979032Z"
    }
   }
  },
  {
   "cell_type": "markdown",
   "source": [
    "##### 2.4.2 Removendo elemento em conjuntos"
   ],
   "metadata": {}
  },
  {
   "cell_type": "code",
   "execution_count": 58,
   "source": [
    "set1"
   ],
   "outputs": [
    {
     "output_type": "execute_result",
     "data": {
      "text/plain": [
       "{3, 4, 5, 6, 7, 8, 9, 10, 11, 12, 13, 14, 15}"
      ]
     },
     "metadata": {},
     "execution_count": 58
    }
   ],
   "metadata": {
    "ExecuteTime": {
     "end_time": "2021-09-27T18:06:42.556407Z",
     "start_time": "2021-09-27T18:06:42.546407Z"
    }
   }
  },
  {
   "cell_type": "code",
   "execution_count": 59,
   "source": [
    "set1.remove(2)"
   ],
   "outputs": [
    {
     "output_type": "error",
     "ename": "KeyError",
     "evalue": "2",
     "traceback": [
      "\u001b[1;31m---------------------------------------------------------------------------\u001b[0m",
      "\u001b[1;31mKeyError\u001b[0m                                  Traceback (most recent call last)",
      "\u001b[1;32m<ipython-input-59-c3db8c08d9dc>\u001b[0m in \u001b[0;36m<module>\u001b[1;34m\u001b[0m\n\u001b[1;32m----> 1\u001b[1;33m \u001b[0mset1\u001b[0m\u001b[1;33m.\u001b[0m\u001b[0mremove\u001b[0m\u001b[1;33m(\u001b[0m\u001b[1;36m2\u001b[0m\u001b[1;33m)\u001b[0m\u001b[1;33m\u001b[0m\u001b[1;33m\u001b[0m\u001b[0m\n\u001b[0m",
      "\u001b[1;31mKeyError\u001b[0m: 2"
     ]
    }
   ],
   "metadata": {
    "ExecuteTime": {
     "end_time": "2021-09-27T18:06:44.696660Z",
     "start_time": "2021-09-27T18:06:44.682661Z"
    }
   }
  },
  {
   "cell_type": "code",
   "execution_count": 10,
   "source": [
    "# remove o elemento se ele existe e não faz nada caso contrário\n",
    "set1.discard(1)"
   ],
   "outputs": [],
   "metadata": {
    "ExecuteTime": {
     "end_time": "2021-08-27T14:07:12.815594Z",
     "start_time": "2021-08-27T14:07:12.807591Z"
    }
   }
  },
  {
   "cell_type": "code",
   "execution_count": 11,
   "source": [
    "set1.clear()"
   ],
   "outputs": [],
   "metadata": {
    "ExecuteTime": {
     "end_time": "2021-08-27T14:07:23.820202Z",
     "start_time": "2021-08-27T14:07:23.808202Z"
    }
   }
  },
  {
   "cell_type": "code",
   "execution_count": 12,
   "source": [
    "set1"
   ],
   "outputs": [
    {
     "output_type": "execute_result",
     "data": {
      "text/plain": [
       "set()"
      ]
     },
     "metadata": {},
     "execution_count": 12
    }
   ],
   "metadata": {
    "ExecuteTime": {
     "end_time": "2021-08-27T14:07:26.467490Z",
     "start_time": "2021-08-27T14:07:26.455491Z"
    }
   }
  },
  {
   "cell_type": "markdown",
   "source": [
    "## Agora é sua vez"
   ],
   "metadata": {}
  },
  {
   "cell_type": "markdown",
   "source": [
    "**1) Crie um conjunto dos números inteiores até o número 10**"
   ],
   "metadata": {}
  },
  {
   "cell_type": "code",
   "execution_count": 3,
   "source": [
    "mySet = {1,2,3,4,5,6,7,8,9,10}\n",
    "mySet"
   ],
   "outputs": [
    {
     "output_type": "execute_result",
     "data": {
      "text/plain": [
       "{1, 2, 3, 4, 5, 6, 7, 8, 9, 10}"
      ]
     },
     "metadata": {},
     "execution_count": 3
    }
   ],
   "metadata": {}
  },
  {
   "cell_type": "markdown",
   "source": [
    "**2) Crie um novo conjunto para osnúmeros inteiros pares até o número 10 (2, 4, 6, 8, 10)**"
   ],
   "metadata": {}
  },
  {
   "cell_type": "code",
   "execution_count": 4,
   "source": [
    "paresSet = {2,4,6,8,10}\n",
    "paresSet"
   ],
   "outputs": [
    {
     "output_type": "execute_result",
     "data": {
      "text/plain": [
       "{2, 4, 6, 8, 10}"
      ]
     },
     "metadata": {},
     "execution_count": 4
    }
   ],
   "metadata": {}
  },
  {
   "cell_type": "markdown",
   "source": [
    "**3) Mostre o resultado da intersseessão, união e diferença entre os dois conjuntos**"
   ],
   "metadata": {}
  },
  {
   "cell_type": "code",
   "execution_count": 5,
   "source": [
    "mySet.intersection(paresSet)"
   ],
   "outputs": [
    {
     "output_type": "execute_result",
     "data": {
      "text/plain": [
       "{2, 4, 6, 8, 10}"
      ]
     },
     "metadata": {},
     "execution_count": 5
    }
   ],
   "metadata": {}
  }
 ],
 "metadata": {
  "kernelspec": {
   "name": "python3",
   "display_name": "Python 3.8.8 64-bit (conda)"
  },
  "language_info": {
   "codemirror_mode": {
    "name": "ipython",
    "version": 3
   },
   "file_extension": ".py",
   "mimetype": "text/x-python",
   "name": "python",
   "nbconvert_exporter": "python",
   "pygments_lexer": "ipython3",
   "version": "3.8.8"
  },
  "interpreter": {
   "hash": "497a55ccd77967726baf9146ac7e5bf5a87dae2093827daa4f01845c45abeec8"
  }
 },
 "nbformat": 4,
 "nbformat_minor": 1
}