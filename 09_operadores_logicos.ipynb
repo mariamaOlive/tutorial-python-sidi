{
 "cells": [
  {
   "cell_type": "markdown",
   "source": [
    "# Curso de Python Básico\n",
    "\n",
    "Este é um curso básico de python que tem o objetivo de apresentar a linguagem python de uma **maneira rápida e objetiva**. Vamos direto ao ponto nos conceitos básicos da programação e python com muita mão na massa! \n",
    "\n",
    "Neste curso, vamos trabalhar no **modo iterativo** do python. Porém, entenda que você pode trabalhar no modo script com várias linhas de código usando um arquivo no formato .py.\n",
    "\n",
    "Ao final desse Curso, espero que você se aprenda python e se motive cada vez mais em utilizar a linguagem para diversas tarefas e problemas do mundo real.\n",
    "\n",
    "Este notebook vai apenas passar pelos tópicos básicos em ordem:\n",
    "\n",
    "* 4. Operadores Lógicos\n",
    "    * 4.1 and\n",
    "    * 4.2 or"
   ],
   "metadata": {}
  },
  {
   "cell_type": "markdown",
   "source": [
    "## 4. Operadores lógicos\n",
    "##### 4.1 and"
   ],
   "metadata": {}
  },
  {
   "cell_type": "code",
   "execution_count": 1,
   "source": [
    "(1 > 2) and (2 < 3)"
   ],
   "outputs": [
    {
     "output_type": "execute_result",
     "data": {
      "text/plain": [
       "False"
      ]
     },
     "metadata": {},
     "execution_count": 1
    }
   ],
   "metadata": {
    "ExecuteTime": {
     "end_time": "2021-09-27T18:54:22.186618Z",
     "start_time": "2021-09-27T18:54:22.174629Z"
    }
   }
  },
  {
   "cell_type": "markdown",
   "source": [
    "##### 4.2 or"
   ],
   "metadata": {}
  },
  {
   "cell_type": "code",
   "execution_count": 2,
   "source": [
    "(1 > 2) or (2 < 3)"
   ],
   "outputs": [
    {
     "output_type": "execute_result",
     "data": {
      "text/plain": [
       "True"
      ]
     },
     "metadata": {},
     "execution_count": 2
    }
   ],
   "metadata": {
    "ExecuteTime": {
     "end_time": "2021-09-27T18:54:24.175540Z",
     "start_time": "2021-09-27T18:54:24.158532Z"
    }
   }
  },
  {
   "cell_type": "code",
   "execution_count": null,
   "source": [
    "# (1 == 2) or (2 == 3) and (3==)"
   ],
   "outputs": [],
   "metadata": {}
  },
  {
   "cell_type": "code",
   "execution_count": null,
   "source": [],
   "outputs": [],
   "metadata": {}
  },
  {
   "cell_type": "markdown",
   "source": [
    "## Agora é sua vez"
   ],
   "metadata": {}
  },
  {
   "cell_type": "markdown",
   "source": [
    "**1) qual o retorno da operação: 5 é maior do que 2, 2 é menor do que 3 e 4 é menor do que 12?**"
   ],
   "metadata": {
    "ExecuteTime": {
     "end_time": "2021-09-27T18:55:22.735486Z",
     "start_time": "2021-09-27T18:55:22.720506Z"
    }
   }
  },
  {
   "cell_type": "code",
   "execution_count": 1,
   "source": [
    "print((5>2) and (2<3) and (4<12))"
   ],
   "outputs": [
    {
     "output_type": "stream",
     "name": "stdout",
     "text": [
      "True\n"
     ]
    }
   ],
   "metadata": {
    "ExecuteTime": {
     "end_time": "2021-09-27T18:56:58.985977Z",
     "start_time": "2021-09-27T18:56:58.974976Z"
    }
   }
  },
  {
   "cell_type": "markdown",
   "source": [
    "**2) O que acontece se trocarmos o último and por \"or\". Verifique e explique se o resultado da expressão muda**"
   ],
   "metadata": {
    "ExecuteTime": {
     "end_time": "2021-09-27T18:56:43.159237Z",
     "start_time": "2021-09-27T18:56:43.145235Z"
    }
   }
  },
  {
   "cell_type": "code",
   "execution_count": 2,
   "source": [
    "print((5>2) and (2<3) or (4<12))"
   ],
   "outputs": [
    {
     "output_type": "stream",
     "name": "stdout",
     "text": [
      "True\n"
     ]
    }
   ],
   "metadata": {
    "ExecuteTime": {
     "end_time": "2021-09-27T18:57:03.024264Z",
     "start_time": "2021-09-27T18:57:03.015263Z"
    }
   }
  }
 ],
 "metadata": {
  "kernelspec": {
   "name": "python3",
   "display_name": "Python 3.8.8 64-bit (conda)"
  },
  "language_info": {
   "codemirror_mode": {
    "name": "ipython",
    "version": 3
   },
   "file_extension": ".py",
   "mimetype": "text/x-python",
   "name": "python",
   "nbconvert_exporter": "python",
   "pygments_lexer": "ipython3",
   "version": "3.8.8"
  },
  "interpreter": {
   "hash": "497a55ccd77967726baf9146ac7e5bf5a87dae2093827daa4f01845c45abeec8"
  }
 },
 "nbformat": 4,
 "nbformat_minor": 1
}