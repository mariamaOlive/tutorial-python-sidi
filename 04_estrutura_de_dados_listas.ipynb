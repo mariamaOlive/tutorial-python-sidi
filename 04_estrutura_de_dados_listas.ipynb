{
 "cells": [
  {
   "cell_type": "markdown",
   "source": [
    "# Curso de Python Básico\n",
    "\n",
    "Este é um curso básico de python que tem o objetivo de apresentar a linguagem python de uma **maneira rápida e objetiva**. Vamos direto ao ponto nos conceitos básicos da programação e python com muita mão na massa! \n",
    "\n",
    "Neste curso, vamos trabalhar no **modo iterativo** do python. Porém, entenda que você pode trabalhar no modo script com várias linhas de código usando um arquivo no formato .py.\n",
    "\n",
    "Ao final desse Curso, espero que você se aprenda python e se motive cada vez mais em utilizar a linguagem para diversas tarefas e problemas do mundo real.\n",
    "\n",
    "Este notebook vai apenas passar pelos tópicos básicos em ordem:\n",
    "\n",
    "* 2. Estrutura de dados\n",
    "    * 2.1 Listas\n",
    "    * 2.2 Dicionários\n",
    "    * 2.3 Tuplas\n",
    "    * 2.4 Sets"
   ],
   "metadata": {}
  },
  {
   "cell_type": "markdown",
   "source": [
    "## 2. Estrutura de Dados\n",
    "- Listas\n",
    "- Dicionários\n",
    "- Tuplas\n",
    "- Conjuntos\n",
    "\n",
    "#### 2.1 Listas \n",
    "Estrutura de dados utilizada para armazenar sequências de valores de forma organizada a partir de um índice que representa a posição na coletação (o índice iniciando em zero)\n",
    "\n",
    "#### 2.1.1 Definição de Listas"
   ],
   "metadata": {}
  },
  {
   "cell_type": "code",
   "execution_count": null,
   "source": [
    "minha_lista = [1,2,3]"
   ],
   "outputs": [],
   "metadata": {}
  },
  {
   "cell_type": "code",
   "execution_count": null,
   "source": [
    "# lista vazia\n",
    "minha_lista = []"
   ],
   "outputs": [],
   "metadata": {}
  },
  {
   "cell_type": "code",
   "execution_count": null,
   "source": [
    "# valores em listas\n",
    "minha_lista = ['hi',1.0,[1,2], True]"
   ],
   "outputs": [],
   "metadata": {
    "ExecuteTime": {
     "end_time": "2021-08-27T13:57:23.497503Z",
     "start_time": "2021-08-27T13:57:23.481505Z"
    }
   }
  },
  {
   "cell_type": "code",
   "execution_count": null,
   "source": [
    "minha_lista[2]"
   ],
   "outputs": [],
   "metadata": {}
  },
  {
   "cell_type": "code",
   "execution_count": null,
   "source": [
    "minha_lista = ['a','b','c']"
   ],
   "outputs": [],
   "metadata": {}
  },
  {
   "cell_type": "code",
   "execution_count": null,
   "source": [
    "minha_lista.append('d')"
   ],
   "outputs": [],
   "metadata": {}
  },
  {
   "cell_type": "code",
   "execution_count": null,
   "source": [
    "minha_lista"
   ],
   "outputs": [],
   "metadata": {}
  },
  {
   "cell_type": "markdown",
   "source": [
    "##### 2.1.2 Acessando listas"
   ],
   "metadata": {}
  },
  {
   "cell_type": "code",
   "execution_count": null,
   "source": [
    "[a, b, c, d]\n",
    "[0, 1, 2, 3]\n",
    "[-4, -3, -2, -1]"
   ],
   "outputs": [],
   "metadata": {}
  },
  {
   "cell_type": "code",
   "execution_count": null,
   "source": [
    "minha_lista[-1]"
   ],
   "outputs": [],
   "metadata": {}
  },
  {
   "cell_type": "code",
   "execution_count": null,
   "source": [
    "minha_lista[0]"
   ],
   "outputs": [],
   "metadata": {}
  },
  {
   "cell_type": "code",
   "execution_count": null,
   "source": [
    "minha_lista[-1]"
   ],
   "outputs": [],
   "metadata": {}
  },
  {
   "cell_type": "code",
   "execution_count": null,
   "source": [
    "minha_lista"
   ],
   "outputs": [],
   "metadata": {}
  },
  {
   "cell_type": "code",
   "execution_count": null,
   "source": [
    "minha_lista[0] = 'A'"
   ],
   "outputs": [],
   "metadata": {}
  },
  {
   "cell_type": "code",
   "execution_count": null,
   "source": [
    "minha_lista"
   ],
   "outputs": [],
   "metadata": {}
  },
  {
   "cell_type": "code",
   "execution_count": null,
   "source": [
    "nest = [1,2,3,[4,5,['target']]]"
   ],
   "outputs": [],
   "metadata": {}
  },
  {
   "cell_type": "code",
   "execution_count": null,
   "source": [
    "nest[3][2][0]"
   ],
   "outputs": [],
   "metadata": {}
  },
  {
   "cell_type": "code",
   "execution_count": null,
   "source": [
    "minha_lista = ['a', 'b', 'c', 'd']"
   ],
   "outputs": [],
   "metadata": {
    "ExecuteTime": {
     "end_time": "2021-08-27T13:31:45.345940Z",
     "start_time": "2021-08-27T13:31:45.336941Z"
    }
   }
  },
  {
   "cell_type": "code",
   "execution_count": null,
   "source": [
    "# retorne uma sublista\n",
    "minha_lista[2:4]"
   ],
   "outputs": [],
   "metadata": {
    "ExecuteTime": {
     "end_time": "2021-08-27T13:32:08.991847Z",
     "start_time": "2021-08-27T13:32:08.983849Z"
    }
   }
  },
  {
   "cell_type": "markdown",
   "source": [
    "##### 2.1.3 Adicionando elementos"
   ],
   "metadata": {}
  },
  {
   "cell_type": "code",
   "execution_count": null,
   "source": [
    "minha_lista = []"
   ],
   "outputs": [],
   "metadata": {
    "ExecuteTime": {
     "end_time": "2021-08-27T13:22:54.147340Z",
     "start_time": "2021-08-27T13:22:54.141344Z"
    }
   }
  },
  {
   "cell_type": "code",
   "execution_count": null,
   "source": [
    "# Inserir elemento em listas\n",
    "minha_lista.append('Novo elemento')"
   ],
   "outputs": [],
   "metadata": {
    "ExecuteTime": {
     "end_time": "2021-08-27T13:22:54.349586Z",
     "start_time": "2021-08-27T13:22:54.337586Z"
    }
   }
  },
  {
   "cell_type": "code",
   "execution_count": null,
   "source": [
    "# Inserir elemento usando o index\n",
    "minha_lista.insert(0, 'primeiro elemento')"
   ],
   "outputs": [],
   "metadata": {
    "ExecuteTime": {
     "end_time": "2021-08-27T13:23:04.171174Z",
     "start_time": "2021-08-27T13:23:04.157174Z"
    }
   }
  },
  {
   "cell_type": "code",
   "execution_count": null,
   "source": [
    "minha_lista[1] = 'Alterando'"
   ],
   "outputs": [],
   "metadata": {
    "ExecuteTime": {
     "end_time": "2021-08-27T13:23:42.526142Z",
     "start_time": "2021-08-27T13:23:42.515144Z"
    }
   }
  },
  {
   "cell_type": "code",
   "execution_count": null,
   "source": [
    "minha_lista"
   ],
   "outputs": [],
   "metadata": {
    "ExecuteTime": {
     "end_time": "2021-08-27T13:23:44.252146Z",
     "start_time": "2021-08-27T13:23:44.234149Z"
    }
   }
  },
  {
   "cell_type": "markdown",
   "source": [
    "##### 2.1.4 Removendo Elementos"
   ],
   "metadata": {}
  },
  {
   "cell_type": "code",
   "execution_count": null,
   "source": [
    "minha_lista = ['A', 'B', 'C', 'D']"
   ],
   "outputs": [],
   "metadata": {
    "ExecuteTime": {
     "end_time": "2021-08-27T13:28:26.144884Z",
     "start_time": "2021-08-27T13:28:26.136885Z"
    }
   }
  },
  {
   "cell_type": "code",
   "execution_count": null,
   "source": [
    "minha_lista.remove('B')"
   ],
   "outputs": [],
   "metadata": {
    "ExecuteTime": {
     "end_time": "2021-08-27T13:28:37.337802Z",
     "start_time": "2021-08-27T13:28:37.323802Z"
    }
   }
  },
  {
   "cell_type": "code",
   "execution_count": null,
   "source": [
    "minha_lista"
   ],
   "outputs": [],
   "metadata": {
    "ExecuteTime": {
     "end_time": "2021-08-27T13:28:53.274734Z",
     "start_time": "2021-08-27T13:28:53.256747Z"
    }
   }
  },
  {
   "cell_type": "code",
   "execution_count": null,
   "source": [
    "del minha_lista[0]"
   ],
   "outputs": [],
   "metadata": {
    "ExecuteTime": {
     "end_time": "2021-08-27T13:29:07.970645Z",
     "start_time": "2021-08-27T13:29:07.960646Z"
    }
   }
  },
  {
   "cell_type": "code",
   "execution_count": null,
   "source": [
    "minha_lista"
   ],
   "outputs": [],
   "metadata": {
    "ExecuteTime": {
     "end_time": "2021-08-27T13:29:12.576635Z",
     "start_time": "2021-08-27T13:29:12.561637Z"
    }
   }
  },
  {
   "cell_type": "markdown",
   "source": [
    "##### 2.1.5 Concatenando listas"
   ],
   "metadata": {
    "ExecuteTime": {
     "end_time": "2021-08-27T13:13:38.436915Z",
     "start_time": "2021-08-27T13:13:38.426915Z"
    }
   }
  },
  {
   "cell_type": "code",
   "execution_count": null,
   "source": [
    "minha_lista = ['Z'] + minha_lista "
   ],
   "outputs": [],
   "metadata": {
    "ExecuteTime": {
     "end_time": "2021-08-27T13:25:40.095612Z",
     "start_time": "2021-08-27T13:25:40.082616Z"
    }
   }
  },
  {
   "cell_type": "code",
   "execution_count": null,
   "source": [
    "minha_lista"
   ],
   "outputs": [],
   "metadata": {
    "ExecuteTime": {
     "end_time": "2021-08-27T13:25:40.221811Z",
     "start_time": "2021-08-27T13:25:40.216810Z"
    }
   }
  },
  {
   "cell_type": "code",
   "execution_count": null,
   "source": [
    "minha_lista = ['farinha de trigo', 'ovo', 'leite', 'manteiga']"
   ],
   "outputs": [],
   "metadata": {
    "ExecuteTime": {
     "end_time": "2021-08-27T13:25:40.377726Z",
     "start_time": "2021-08-27T13:25:40.360722Z"
    }
   }
  },
  {
   "cell_type": "code",
   "execution_count": null,
   "source": [
    "minha_lista.extend(['açucar', 'fermento'])"
   ],
   "outputs": [],
   "metadata": {
    "ExecuteTime": {
     "end_time": "2021-08-27T13:25:40.487221Z",
     "start_time": "2021-08-27T13:25:40.480221Z"
    }
   }
  },
  {
   "cell_type": "code",
   "execution_count": null,
   "source": [
    "minha_lista"
   ],
   "outputs": [],
   "metadata": {
    "ExecuteTime": {
     "end_time": "2021-08-27T13:25:40.642602Z",
     "start_time": "2021-08-27T13:25:40.624606Z"
    }
   }
  },
  {
   "cell_type": "markdown",
   "source": [
    "##### 2.1.6 Ordenação de listas"
   ],
   "metadata": {}
  },
  {
   "cell_type": "code",
   "execution_count": null,
   "source": [
    "minha_lista = [1,5,2,3,4]"
   ],
   "outputs": [],
   "metadata": {
    "ExecuteTime": {
     "end_time": "2021-08-27T13:24:13.085474Z",
     "start_time": "2021-08-27T13:24:13.082484Z"
    }
   }
  },
  {
   "cell_type": "code",
   "execution_count": null,
   "source": [
    "minha_lista.sort(reverse=False)"
   ],
   "outputs": [],
   "metadata": {
    "ExecuteTime": {
     "end_time": "2021-08-27T13:24:32.008461Z",
     "start_time": "2021-08-27T13:24:31.996449Z"
    }
   }
  },
  {
   "cell_type": "code",
   "execution_count": null,
   "source": [
    "minha_lista"
   ],
   "outputs": [],
   "metadata": {
    "ExecuteTime": {
     "end_time": "2021-08-27T13:24:32.256912Z",
     "start_time": "2021-08-27T13:24:32.240913Z"
    }
   }
  },
  {
   "cell_type": "markdown",
   "source": [
    "##### 2.1.7 Comprimento de listas"
   ],
   "metadata": {}
  },
  {
   "cell_type": "code",
   "execution_count": null,
   "source": [
    "len(minha_lista)"
   ],
   "outputs": [],
   "metadata": {
    "ExecuteTime": {
     "end_time": "2021-08-27T13:34:46.039340Z",
     "start_time": "2021-08-27T13:34:46.032333Z"
    }
   }
  },
  {
   "cell_type": "markdown",
   "source": [
    "##### 2.1.8 Convertendo lista para string"
   ],
   "metadata": {}
  },
  {
   "cell_type": "code",
   "execution_count": null,
   "source": [
    "minha_lista = ['1', '2', '3', '4', '5']"
   ],
   "outputs": [],
   "metadata": {
    "ExecuteTime": {
     "end_time": "2021-08-27T13:30:41.450232Z",
     "start_time": "2021-08-27T13:30:41.434233Z"
    }
   }
  },
  {
   "cell_type": "code",
   "execution_count": null,
   "source": [
    "''.join(minha_lista)"
   ],
   "outputs": [],
   "metadata": {
    "ExecuteTime": {
     "end_time": "2021-08-27T13:30:41.731230Z",
     "start_time": "2021-08-27T13:30:41.727231Z"
    }
   }
  },
  {
   "cell_type": "code",
   "execution_count": null,
   "source": [],
   "outputs": [],
   "metadata": {}
  },
  {
   "cell_type": "markdown",
   "source": [
    "## Agora é sua vez!"
   ],
   "metadata": {}
  },
  {
   "cell_type": "markdown",
   "source": [
    "**1) Crie uma lista \"familia\" com o nome dos membros da sua família (pais, filhos, avôs e irmãos)**"
   ],
   "metadata": {}
  },
  {
   "cell_type": "code",
   "execution_count": 1,
   "source": [
    "familia = [\"Paulo\",\"Maria\",\"Vilma\", \"Reginaldo\", \"Túlio\"]"
   ],
   "outputs": [],
   "metadata": {}
  },
  {
   "cell_type": "markdown",
   "source": [
    "**2) Adicione nesta lista os nomes dos seus animais de estimação que você já teve ou tem**"
   ],
   "metadata": {}
  },
  {
   "cell_type": "code",
   "execution_count": 2,
   "source": [
    "familia.append(\"Preta\")\n",
    "familia.append(\"Feliz\")"
   ],
   "outputs": [],
   "metadata": {}
  },
  {
   "cell_type": "markdown",
   "source": [
    "**3) Remova os animais de estimação que você não tem mais**"
   ],
   "metadata": {}
  },
  {
   "cell_type": "code",
   "execution_count": 3,
   "source": [
    "familia.remove(\"Preta\")"
   ],
   "outputs": [],
   "metadata": {}
  },
  {
   "cell_type": "markdown",
   "source": [
    "**4) Crie uma nova lista com nome Amigos e adicione seus principais amigos nesta lista**"
   ],
   "metadata": {}
  },
  {
   "cell_type": "code",
   "execution_count": 4,
   "source": [
    "amigos = [\"Luiz\", \"Bruno\"]"
   ],
   "outputs": [],
   "metadata": {}
  },
  {
   "cell_type": "markdown",
   "source": [
    "**5) Concatene as listas Familia e Amigos em uma nova lista chamada Networking**"
   ],
   "metadata": {}
  },
  {
   "cell_type": "code",
   "execution_count": 5,
   "source": [
    "networking = familia + amigos"
   ],
   "outputs": [],
   "metadata": {}
  },
  {
   "cell_type": "markdown",
   "source": [
    "**6) Delete as listas Familia e Amigos**"
   ],
   "metadata": {}
  },
  {
   "cell_type": "code",
   "execution_count": 6,
   "source": [
    "del familia\n",
    "del amigos"
   ],
   "outputs": [],
   "metadata": {}
  },
  {
   "cell_type": "markdown",
   "source": [
    "**8) Ordene a lista Networking por ordem alfabetica a-z**"
   ],
   "metadata": {}
  },
  {
   "cell_type": "code",
   "execution_count": 7,
   "source": [
    "networking.sort()\n",
    "networking"
   ],
   "outputs": [
    {
     "output_type": "execute_result",
     "data": {
      "text/plain": [
       "['Bruno', 'Feliz', 'Luiz', 'Maria', 'Paulo', 'Reginaldo', 'Túlio', 'Vilma']"
      ]
     },
     "metadata": {},
     "execution_count": 7
    }
   ],
   "metadata": {}
  },
  {
   "cell_type": "markdown",
   "source": [
    "**9) Verifique o tamanho da lista networking**"
   ],
   "metadata": {}
  },
  {
   "cell_type": "code",
   "execution_count": 9,
   "source": [
    "print(f\"O tamanho da lista é {len(networking)}\")"
   ],
   "outputs": [
    {
     "output_type": "stream",
     "name": "stdout",
     "text": [
      "O tamanho da lista é 8\n"
     ]
    }
   ],
   "metadata": {}
  },
  {
   "cell_type": "markdown",
   "source": [
    "**10) Converta todos os itens da lista para string usando o separador '|'**"
   ],
   "metadata": {}
  },
  {
   "cell_type": "code",
   "execution_count": 11,
   "source": [
    "stringLista = '|'.join(networking)\n",
    "stringLista"
   ],
   "outputs": [
    {
     "output_type": "execute_result",
     "data": {
      "text/plain": [
       "'Bruno|Feliz|Luiz|Maria|Paulo|Reginaldo|Túlio|Vilma'"
      ]
     },
     "metadata": {},
     "execution_count": 11
    }
   ],
   "metadata": {}
  }
 ],
 "metadata": {
  "kernelspec": {
   "name": "python3",
   "display_name": "Python 3.8.8 64-bit (conda)"
  },
  "language_info": {
   "codemirror_mode": {
    "name": "ipython",
    "version": 3
   },
   "file_extension": ".py",
   "mimetype": "text/x-python",
   "name": "python",
   "nbconvert_exporter": "python",
   "pygments_lexer": "ipython3",
   "version": "3.8.8"
  },
  "interpreter": {
   "hash": "497a55ccd77967726baf9146ac7e5bf5a87dae2093827daa4f01845c45abeec8"
  }
 },
 "nbformat": 4,
 "nbformat_minor": 1
}