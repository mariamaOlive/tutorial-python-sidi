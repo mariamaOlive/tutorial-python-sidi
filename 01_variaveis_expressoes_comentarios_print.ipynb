{
 "cells": [
  {
   "cell_type": "markdown",
   "source": [
    "# Curso de Python Básico\n",
    "\n",
    "Este é um curso básico de python que tem o objetivo de apresentar a linguagem python de uma **maneira rápida e objetiva**. Vamos direto ao ponto nos conceitos básicos da programação e python com muita mão na massa! \n",
    "\n",
    "Neste curso, vamos trabalhar no **modo iterativo** do python. Porém, entenda que você pode trabalhar no modo script com várias linhas de código usando um arquivo no formato .py.\n",
    "\n",
    "Ao final desse Curso, espero que você se aprenda python e se motive cada vez mais em utilizar a linguagem para diversas tarefas e problemas do mundo real.\n",
    "\n",
    "Este notebook vai apenas passar pelos tópicos básicos em ordem:\n",
    "\n",
    "* 1. Conceitos Básicos\n",
    "    * 1.1 Variáveis\n",
    "    * 1.2 Comentários\n",
    "    * 1.3 Expressões\n",
    "    * 1.4 Imprimindo Valores"
   ],
   "metadata": {}
  },
  {
   "cell_type": "markdown",
   "source": [
    "##  1. Conceitos Básicos\n",
    "#### 1.1 Variáveis\n",
    "**Conceito**: Uma variável é um nome que se refere a um valor.\n",
    "\n",
    "***Regras básicas***:\n",
    "- Nomes de variáveis sempre devem começar por caractere alfabético\n",
    "- Podem conter letras e números\n",
    "- Não se pode iniciar uma variável com números ou carateres especiais (@, %, &, |, ...), \n",
    "- Não é necessário colocar o tipo da variável (Python é não tipada)\n",
    "- Não utilizar linguagem reservadas da linguagem (class, int, float, False, finally, return, lambda, else, elif, pass, assert, break, with, ...)\n",
    "- A declaração é case sensitive, ou seja, a variável \"Nome\" é diferente de \"nome\""
   ],
   "metadata": {}
  },
  {
   "cell_type": "code",
   "execution_count": 3,
   "source": [
    "nome_da_variavel = 2"
   ],
   "outputs": [],
   "metadata": {}
  },
  {
   "cell_type": "code",
   "execution_count": 2,
   "source": [
    "mensagem = \"Esta é mais uma aula do curso de python\""
   ],
   "outputs": [],
   "metadata": {}
  },
  {
   "cell_type": "code",
   "execution_count": 8,
   "source": [
    "@_variavel_1"
   ],
   "outputs": [
    {
     "output_type": "error",
     "ename": "SyntaxError",
     "evalue": "unexpected EOF while parsing (<ipython-input-8-cc2a0452e24a>, line 1)",
     "traceback": [
      "\u001b[1;36m  File \u001b[1;32m\"<ipython-input-8-cc2a0452e24a>\"\u001b[1;36m, line \u001b[1;32m1\u001b[0m\n\u001b[1;33m    @_variavel_1\u001b[0m\n\u001b[1;37m                ^\u001b[0m\n\u001b[1;31mSyntaxError\u001b[0m\u001b[1;31m:\u001b[0m unexpected EOF while parsing\n"
     ]
    }
   ],
   "metadata": {
    "ExecuteTime": {
     "end_time": "2021-08-27T13:06:47.853256Z",
     "start_time": "2021-08-27T13:06:47.838263Z"
    }
   }
  },
  {
   "cell_type": "code",
   "execution_count": 9,
   "source": [
    "m@is = 2"
   ],
   "outputs": [
    {
     "output_type": "error",
     "ename": "SyntaxError",
     "evalue": "invalid syntax (<ipython-input-9-dcfc9c562f91>, line 1)",
     "traceback": [
      "\u001b[1;36m  File \u001b[1;32m\"<ipython-input-9-dcfc9c562f91>\"\u001b[1;36m, line \u001b[1;32m1\u001b[0m\n\u001b[1;33m    m@is = 2\u001b[0m\n\u001b[1;37m      ^\u001b[0m\n\u001b[1;31mSyntaxError\u001b[0m\u001b[1;31m:\u001b[0m invalid syntax\n"
     ]
    }
   ],
   "metadata": {
    "ExecuteTime": {
     "end_time": "2021-08-27T12:41:34.621952Z",
     "start_time": "2021-08-27T12:41:34.616954Z"
    }
   }
  },
  {
   "cell_type": "code",
   "execution_count": 10,
   "source": [
    "class = 55"
   ],
   "outputs": [
    {
     "output_type": "error",
     "ename": "SyntaxError",
     "evalue": "invalid syntax (<ipython-input-10-57339dcf3068>, line 1)",
     "traceback": [
      "\u001b[1;36m  File \u001b[1;32m\"<ipython-input-10-57339dcf3068>\"\u001b[1;36m, line \u001b[1;32m1\u001b[0m\n\u001b[1;33m    class = 55\u001b[0m\n\u001b[1;37m          ^\u001b[0m\n\u001b[1;31mSyntaxError\u001b[0m\u001b[1;31m:\u001b[0m invalid syntax\n"
     ]
    }
   ],
   "metadata": {
    "ExecuteTime": {
     "end_time": "2021-08-27T12:41:40.097571Z",
     "start_time": "2021-08-27T12:41:40.085574Z"
    }
   }
  },
  {
   "cell_type": "markdown",
   "source": [
    "#### 1.2 Expressão\n",
    "**Conceito**: É uma combinação de valores, variáveis e operadores. Um valor por si só já é considerado uma expressão, portanto, nos códigos acimas temos variáveis empressões"
   ],
   "metadata": {}
  },
  {
   "cell_type": "code",
   "execution_count": 11,
   "source": [
    "x = 2\n",
    "y = 3\n",
    "z = x + y"
   ],
   "outputs": [],
   "metadata": {}
  },
  {
   "cell_type": "code",
   "execution_count": 12,
   "source": [
    "z"
   ],
   "outputs": [
    {
     "output_type": "execute_result",
     "data": {
      "text/plain": [
       "5"
      ]
     },
     "metadata": {},
     "execution_count": 12
    }
   ],
   "metadata": {}
  },
  {
   "cell_type": "markdown",
   "source": [
    "#### 1.3 Comentários\n",
    "\n",
    "Texto que escrevemos junto com código que não é executado. Usamos comentários para indicar a função do código, operação e documentação."
   ],
   "metadata": {}
  },
  {
   "cell_type": "code",
   "execution_count": 13,
   "source": [
    "# Este é um comentários curto"
   ],
   "outputs": [],
   "metadata": {
    "ExecuteTime": {
     "end_time": "2021-08-27T17:38:05.558579Z",
     "start_time": "2021-08-27T17:38:05.550577Z"
    }
   }
  },
  {
   "cell_type": "code",
   "execution_count": 14,
   "source": [
    "\"\"\"\n",
    "Este comentário composto\n",
    "pode conter multiplas linhas\n",
    "\n",
    "\"\"\""
   ],
   "outputs": [
    {
     "output_type": "execute_result",
     "data": {
      "text/plain": [
       "'\\nEste comentário composto\\npode conter multiplas linhas\\n\\n'"
      ]
     },
     "metadata": {},
     "execution_count": 14
    }
   ],
   "metadata": {
    "ExecuteTime": {
     "end_time": "2021-08-27T17:39:20.709511Z",
     "start_time": "2021-08-27T17:39:20.698522Z"
    }
   }
  },
  {
   "cell_type": "markdown",
   "source": [
    "#### 1.4 Imprimindo valores"
   ],
   "metadata": {}
  },
  {
   "cell_type": "code",
   "execution_count": null,
   "source": [
    "nome = 'João'\n",
    "idade = 50\n",
    "salario = 50000.00"
   ],
   "outputs": [],
   "metadata": {
    "ExecuteTime": {
     "end_time": "2021-08-27T12:42:43.805690Z",
     "start_time": "2021-08-27T12:42:43.797682Z"
    }
   }
  },
  {
   "cell_type": "code",
   "execution_count": null,
   "source": [
    "verdade = False"
   ],
   "outputs": [],
   "metadata": {}
  },
  {
   "cell_type": "code",
   "execution_count": null,
   "source": [
    "print(nome)"
   ],
   "outputs": [],
   "metadata": {
    "ExecuteTime": {
     "end_time": "2021-08-27T14:20:20.215916Z",
     "start_time": "2021-08-27T14:20:20.203917Z"
    }
   }
  },
  {
   "cell_type": "code",
   "execution_count": null,
   "source": [
    "print(idade)"
   ],
   "outputs": [],
   "metadata": {
    "ExecuteTime": {
     "end_time": "2021-08-27T14:20:26.508649Z",
     "start_time": "2021-08-27T14:20:26.499649Z"
    }
   }
  },
  {
   "cell_type": "code",
   "execution_count": null,
   "source": [
    "# Usando separador\n",
    "print('Nicksson', 'Arrais', sep='/')"
   ],
   "outputs": [],
   "metadata": {
    "ExecuteTime": {
     "end_time": "2021-08-27T14:21:22.928128Z",
     "start_time": "2021-08-27T14:21:22.918130Z"
    }
   }
  },
  {
   "cell_type": "code",
   "execution_count": null,
   "source": [
    "# Usando format\n",
    "print('Meu número é: {var1}, e minha idade é: {var2}'.format(var2=nome,var1=idade))"
   ],
   "outputs": [],
   "metadata": {
    "ExecuteTime": {
     "end_time": "2021-08-27T14:22:55.875830Z",
     "start_time": "2021-08-27T14:22:55.865832Z"
    }
   }
  },
  {
   "cell_type": "code",
   "execution_count": null,
   "source": [
    "# Usando format\n",
    "print(f'Eu sou o {nome} e eu tenho {idade} anos')"
   ],
   "outputs": [],
   "metadata": {
    "ExecuteTime": {
     "end_time": "2021-08-27T14:22:51.764173Z",
     "start_time": "2021-08-27T14:22:51.747176Z"
    }
   }
  },
  {
   "cell_type": "code",
   "execution_count": null,
   "source": [
    "print('Oi {}, {}'.format(nome, idade))"
   ],
   "outputs": [],
   "metadata": {
    "ExecuteTime": {
     "end_time": "2021-08-27T14:21:40.642434Z",
     "start_time": "2021-08-27T14:21:40.635436Z"
    },
    "scrolled": true
   }
  },
  {
   "cell_type": "code",
   "execution_count": null,
   "source": [],
   "outputs": [],
   "metadata": {}
  },
  {
   "cell_type": "markdown",
   "source": [
    "## Agora é a sua vez!\n",
    "\n",
    "1) Crie um programa que receba seu nome, idade, telefone, salário e endereço e imprima uma saída desejada. \n",
    "\n",
    "Saída: Eu sou {NOME}, eu tenho {IDADE}, você pode me contatar no número {TELEFONE} ou me visitar no endereço {ENDERECO}. Meu salário atual circula em torno de {SALARIO}.\n"
   ],
   "metadata": {}
  },
  {
   "cell_type": "code",
   "execution_count": 1,
   "source": [
    "nome = input(\"Digite o nome: \")\n",
    "idade = input(\"Digite a idade: \")\n",
    "telefone = input(\"Digite o telefone: \")\n",
    "salario = input(\"Digite o salario: \")\n",
    "endereco = input(\"Digite o endereco: \")\n",
    "\n",
    "print(f'Eu sou {nome}, eu tenho {idade}, você pode me contatar no número {telefone} ou me visitar no endereço {endereco}. Meu salário atual circula em torno de {salario}.')"
   ],
   "outputs": [
    {
     "output_type": "stream",
     "name": "stdout",
     "text": [
      "Eu sou mariama, eu tenho 32, você pode me contatar no número rua manoel aquino ou me visitar no endereço rua manoel aquino. Meu salário atual circula em torno de 10000.\n"
     ]
    }
   ],
   "metadata": {}
  }
 ],
 "metadata": {
  "kernelspec": {
   "name": "python3",
   "display_name": "Python 3.8.11 64-bit ('new_env': conda)"
  },
  "language_info": {
   "codemirror_mode": {
    "name": "ipython",
    "version": 3
   },
   "file_extension": ".py",
   "mimetype": "text/x-python",
   "name": "python",
   "nbconvert_exporter": "python",
   "pygments_lexer": "ipython3",
   "version": "3.8.11"
  },
  "interpreter": {
   "hash": "f2764d3c46826080d78b33f2b6b2877be3ac4ddefe2d527bb4d290c4312cd698"
  }
 },
 "nbformat": 4,
 "nbformat_minor": 1
}