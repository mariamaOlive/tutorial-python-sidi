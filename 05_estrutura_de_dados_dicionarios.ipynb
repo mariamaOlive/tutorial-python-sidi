{
 "cells": [
  {
   "cell_type": "markdown",
   "source": [
    "# Curso de Python Básico\n",
    "\n",
    "Este é um curso básico de python que tem o objetivo de apresentar a linguagem python de uma **maneira rápida e objetiva**. Vamos direto ao ponto nos conceitos básicos da programação e python com muita mão na massa! \n",
    "\n",
    "Neste curso, vamos trabalhar no **modo iterativo** do python. Porém, entenda que você pode trabalhar no modo script com várias linhas de código usando um arquivo no formato .py.\n",
    "\n",
    "Ao final desse Curso, espero que você se aprenda python e se motive cada vez mais em utilizar a linguagem para diversas tarefas e problemas do mundo real.\n",
    "\n",
    "Este notebook vai apenas passar pelos tópicos básicos em ordem:\n",
    "\n",
    "* 2. Estrutura de dados\n",
    "    * 2.2 Dicionários"
   ],
   "metadata": {}
  },
  {
   "cell_type": "markdown",
   "source": [
    "## 2. Estrutura de Dados\n",
    "- Listas\n",
    "- Dicionários\n",
    "- Tuplas\n",
    "- Conjuntos"
   ],
   "metadata": {}
  },
  {
   "cell_type": "markdown",
   "source": [
    "#### 2.2 Dicionários\n",
    "Estrutura de dados utilizada para armazenar dados no formato de **chave-valor**. A chave é o campo utilizado para tipo imutável e o valor é um objeto de dados do python\n",
    "\n",
    "##### 2.2.1 Definição de Dicionários"
   ],
   "metadata": {}
  },
  {
   "cell_type": "code",
   "execution_count": 1,
   "source": [
    "d = {'chave1':'item1',\n",
    "     'chave2':'item2'}"
   ],
   "outputs": [],
   "metadata": {
    "ExecuteTime": {
     "end_time": "2021-09-27T17:27:54.706474Z",
     "start_time": "2021-09-27T17:27:54.693968Z"
    }
   }
  },
  {
   "cell_type": "code",
   "execution_count": 25,
   "source": [
    "json = {'Nome':'Nicksson',\n",
    "       'Idade': 50,\n",
    "       'profissão':'Motorista',\n",
    "       'telefone': ['tel1', 'tel2', 'tel3']}"
   ],
   "outputs": [],
   "metadata": {
    "ExecuteTime": {
     "end_time": "2021-09-27T17:39:48.636340Z",
     "start_time": "2021-09-27T17:39:48.625339Z"
    }
   }
  },
  {
   "cell_type": "code",
   "execution_count": 30,
   "source": [
    "#Retorna um novo dicionário cujas chaves são os elementos de lista e cujos valores são todos iguais a valor\n",
    "dict.fromkeys([\"Joao\",\"Maria\",\"José\"],[1,2,3])"
   ],
   "outputs": [
    {
     "output_type": "execute_result",
     "data": {
      "text/plain": [
       "{'Joao': [1, 2, 3], 'Maria': [1, 2, 3], 'José': [1, 2, 3]}"
      ]
     },
     "metadata": {},
     "execution_count": 30
    }
   ],
   "metadata": {
    "ExecuteTime": {
     "end_time": "2021-09-27T17:40:43.334056Z",
     "start_time": "2021-09-27T17:40:43.321036Z"
    }
   }
  },
  {
   "cell_type": "markdown",
   "source": [
    "##### 2.2.2 Adicionando elementos em Dicionários"
   ],
   "metadata": {
    "ExecuteTime": {
     "end_time": "2021-08-27T13:17:12.460923Z",
     "start_time": "2021-08-27T13:17:12.451926Z"
    }
   }
  },
  {
   "cell_type": "code",
   "execution_count": 49,
   "source": [
    "json"
   ],
   "outputs": [
    {
     "output_type": "execute_result",
     "data": {
      "text/plain": [
       "{'Nome': 'Nicksson',\n",
       " 'Idade': 50,\n",
       " 'profissão': 'Cientista de Dados',\n",
       " 'telefone': ['tel1', 'tel2', 'tel3'],\n",
       " 'estado civil': 'casado',\n",
       " 'Endereço': 'Rua AAA, n 999',\n",
       " 'Estado civil': 'solteiro'}"
      ]
     },
     "metadata": {},
     "execution_count": 49
    }
   ],
   "metadata": {
    "ExecuteTime": {
     "end_time": "2021-09-27T17:45:23.727344Z",
     "start_time": "2021-09-27T17:45:23.712343Z"
    }
   }
  },
  {
   "cell_type": "code",
   "execution_count": 46,
   "source": [
    "json['Idade'] = 50"
   ],
   "outputs": [],
   "metadata": {
    "ExecuteTime": {
     "end_time": "2021-09-27T17:44:55.837552Z",
     "start_time": "2021-09-27T17:44:55.823455Z"
    }
   }
  },
  {
   "cell_type": "code",
   "execution_count": 32,
   "source": [
    "json['estado civil'] = 'casado'"
   ],
   "outputs": [],
   "metadata": {
    "ExecuteTime": {
     "end_time": "2021-09-27T17:41:32.578326Z",
     "start_time": "2021-09-27T17:41:32.561749Z"
    }
   }
  },
  {
   "cell_type": "code",
   "execution_count": 39,
   "source": [
    "json['profissão'] = 'Cientista de Dados'"
   ],
   "outputs": [],
   "metadata": {
    "ExecuteTime": {
     "end_time": "2021-09-27T17:42:12.663835Z",
     "start_time": "2021-09-27T17:42:12.649279Z"
    }
   }
  },
  {
   "cell_type": "code",
   "execution_count": 40,
   "source": [
    "json['Endereço'] = 'Rua AAA, n 999'"
   ],
   "outputs": [],
   "metadata": {
    "ExecuteTime": {
     "end_time": "2021-09-27T17:42:19.586124Z",
     "start_time": "2021-09-27T17:42:19.568638Z"
    }
   }
  },
  {
   "cell_type": "markdown",
   "source": [
    "##### 2.2.3 Acessando elementos em Dicionários"
   ],
   "metadata": {
    "ExecuteTime": {
     "end_time": "2021-08-27T13:33:28.035488Z",
     "start_time": "2021-08-27T13:33:28.022490Z"
    }
   }
  },
  {
   "cell_type": "code",
   "execution_count": 51,
   "source": [
    "json.keys()"
   ],
   "outputs": [
    {
     "output_type": "execute_result",
     "data": {
      "text/plain": [
       "dict_keys(['Nome', 'Idade', 'profissão', 'telefone', 'estado civil', 'Endereço', 'Estado civil'])"
      ]
     },
     "metadata": {},
     "execution_count": 51
    }
   ],
   "metadata": {
    "ExecuteTime": {
     "end_time": "2021-09-27T17:46:41.162997Z",
     "start_time": "2021-09-27T17:46:41.143998Z"
    }
   }
  },
  {
   "cell_type": "code",
   "execution_count": 52,
   "source": [
    "json.values()"
   ],
   "outputs": [
    {
     "output_type": "execute_result",
     "data": {
      "text/plain": [
       "dict_values(['Nicksson', 50, 'Cientista de Dados', ['tel1', 'tel2', 'tel3'], 'casado', 'Rua AAA, n 999', 'solteiro'])"
      ]
     },
     "metadata": {},
     "execution_count": 52
    }
   ],
   "metadata": {
    "ExecuteTime": {
     "end_time": "2021-09-27T17:46:55.358693Z",
     "start_time": "2021-09-27T17:46:55.343694Z"
    }
   }
  },
  {
   "cell_type": "code",
   "execution_count": 53,
   "source": [
    "json.items()"
   ],
   "outputs": [
    {
     "output_type": "execute_result",
     "data": {
      "text/plain": [
       "dict_items([('Nome', 'Nicksson'), ('Idade', 50), ('profissão', 'Cientista de Dados'), ('telefone', ['tel1', 'tel2', 'tel3']), ('estado civil', 'casado'), ('Endereço', 'Rua AAA, n 999'), ('Estado civil', 'solteiro')])"
      ]
     },
     "metadata": {},
     "execution_count": 53
    }
   ],
   "metadata": {
    "ExecuteTime": {
     "end_time": "2021-09-27T17:47:01.991669Z",
     "start_time": "2021-09-27T17:47:01.977323Z"
    }
   }
  },
  {
   "cell_type": "markdown",
   "source": [
    "##### 2.2.4 Removendo elementos em Dicionários"
   ],
   "metadata": {
    "ExecuteTime": {
     "end_time": "2021-08-27T13:37:13.141117Z",
     "start_time": "2021-08-27T13:37:13.137120Z"
    }
   }
  },
  {
   "cell_type": "code",
   "execution_count": 57,
   "source": [
    "json"
   ],
   "outputs": [
    {
     "output_type": "execute_result",
     "data": {
      "text/plain": [
       "{'Idade': 50,\n",
       " 'profissão': 'Cientista de Dados',\n",
       " 'telefone': ['tel1', 'tel2', 'tel3'],\n",
       " 'estado civil': 'casado',\n",
       " 'Endereço': 'Rua AAA, n 999'}"
      ]
     },
     "metadata": {},
     "execution_count": 57
    }
   ],
   "metadata": {
    "ExecuteTime": {
     "end_time": "2021-09-27T17:47:48.989342Z",
     "start_time": "2021-09-27T17:47:48.984113Z"
    }
   }
  },
  {
   "cell_type": "code",
   "execution_count": 56,
   "source": [
    "json.pop('Estado civil')"
   ],
   "outputs": [
    {
     "output_type": "execute_result",
     "data": {
      "text/plain": [
       "'solteiro'"
      ]
     },
     "metadata": {},
     "execution_count": 56
    }
   ],
   "metadata": {
    "ExecuteTime": {
     "end_time": "2021-09-27T17:47:47.406301Z",
     "start_time": "2021-09-27T17:47:47.399300Z"
    }
   }
  },
  {
   "cell_type": "code",
   "execution_count": 58,
   "source": [
    "del json['Idade']"
   ],
   "outputs": [],
   "metadata": {
    "ExecuteTime": {
     "end_time": "2021-09-27T17:47:53.905786Z",
     "start_time": "2021-09-27T17:47:53.902787Z"
    }
   }
  },
  {
   "cell_type": "code",
   "execution_count": 59,
   "source": [
    "json"
   ],
   "outputs": [
    {
     "output_type": "execute_result",
     "data": {
      "text/plain": [
       "{'profissão': 'Cientista de Dados',\n",
       " 'telefone': ['tel1', 'tel2', 'tel3'],\n",
       " 'estado civil': 'casado',\n",
       " 'Endereço': 'Rua AAA, n 999'}"
      ]
     },
     "metadata": {},
     "execution_count": 59
    }
   ],
   "metadata": {
    "ExecuteTime": {
     "end_time": "2021-09-27T17:47:54.650522Z",
     "start_time": "2021-09-27T17:47:54.639522Z"
    }
   }
  },
  {
   "cell_type": "code",
   "execution_count": 62,
   "source": [
    "json.popitem()"
   ],
   "outputs": [
    {
     "output_type": "execute_result",
     "data": {
      "text/plain": [
       "('estado civil', 'casado')"
      ]
     },
     "metadata": {},
     "execution_count": 62
    }
   ],
   "metadata": {
    "ExecuteTime": {
     "end_time": "2021-09-27T17:48:07.664697Z",
     "start_time": "2021-09-27T17:48:07.647455Z"
    }
   }
  },
  {
   "cell_type": "code",
   "execution_count": 63,
   "source": [
    "json"
   ],
   "outputs": [
    {
     "output_type": "execute_result",
     "data": {
      "text/plain": [
       "{'profissão': 'Cientista de Dados', 'telefone': ['tel1', 'tel2', 'tel3']}"
      ]
     },
     "metadata": {},
     "execution_count": 63
    }
   ],
   "metadata": {
    "ExecuteTime": {
     "end_time": "2021-09-27T17:48:08.006288Z",
     "start_time": "2021-09-27T17:48:07.999290Z"
    }
   }
  },
  {
   "cell_type": "code",
   "execution_count": 64,
   "source": [
    "json.clear()"
   ],
   "outputs": [],
   "metadata": {
    "ExecuteTime": {
     "end_time": "2021-09-27T17:48:20.039439Z",
     "start_time": "2021-09-27T17:48:20.031438Z"
    }
   }
  },
  {
   "cell_type": "code",
   "execution_count": 65,
   "source": [
    "json"
   ],
   "outputs": [
    {
     "output_type": "execute_result",
     "data": {
      "text/plain": [
       "{}"
      ]
     },
     "metadata": {},
     "execution_count": 65
    }
   ],
   "metadata": {
    "ExecuteTime": {
     "end_time": "2021-09-27T17:48:20.256826Z",
     "start_time": "2021-09-27T17:48:20.239318Z"
    }
   }
  },
  {
   "cell_type": "markdown",
   "source": [
    "##### 2.2.5 Criando dicionário a partir de duas listas"
   ],
   "metadata": {}
  },
  {
   "cell_type": "code",
   "execution_count": 79,
   "source": [
    "lista1 = [1, 2, 3, 4, 5]\n",
    "lista2 = ['v1', 'v2', 'v3', 'v4', 'v5']"
   ],
   "outputs": [],
   "metadata": {
    "ExecuteTime": {
     "end_time": "2021-09-27T17:50:34.754682Z",
     "start_time": "2021-09-27T17:50:34.750670Z"
    }
   }
  },
  {
   "cell_type": "code",
   "execution_count": 80,
   "source": [
    "# A função zip pode ser usada para combitar duas listas facilmente\n",
    "my_dict = dict(zip(lista1, lista2))"
   ],
   "outputs": [],
   "metadata": {
    "ExecuteTime": {
     "end_time": "2021-09-27T17:50:34.955911Z",
     "start_time": "2021-09-27T17:50:34.949910Z"
    }
   }
  },
  {
   "cell_type": "code",
   "execution_count": 81,
   "source": [
    "my_dict[2]"
   ],
   "outputs": [
    {
     "output_type": "execute_result",
     "data": {
      "text/plain": [
       "'v2'"
      ]
     },
     "metadata": {},
     "execution_count": 81
    }
   ],
   "metadata": {
    "ExecuteTime": {
     "end_time": "2021-09-27T17:50:35.156424Z",
     "start_time": "2021-09-27T17:50:35.142424Z"
    }
   }
  },
  {
   "cell_type": "code",
   "execution_count": 82,
   "source": [
    "# A função unzip pode ser usada para descombinar dados\n",
    "name_and_age = [('Joe', 23),\n",
    "                  ('Earnst', 65),\n",
    "                  ('Thomas', 11),\n",
    "                  ('Martin', 36),\n",
    "                  ('Charles', 83)]"
   ],
   "outputs": [],
   "metadata": {
    "ExecuteTime": {
     "end_time": "2021-09-27T17:50:50.673018Z",
     "start_time": "2021-09-27T17:50:50.655021Z"
    }
   }
  },
  {
   "cell_type": "code",
   "execution_count": null,
   "source": [
    "nomes, idades = zip(*name_and_age)"
   ],
   "outputs": [],
   "metadata": {}
  },
  {
   "cell_type": "code",
   "execution_count": null,
   "source": [
    "nomes"
   ],
   "outputs": [],
   "metadata": {}
  },
  {
   "cell_type": "code",
   "execution_count": null,
   "source": [
    "idades"
   ],
   "outputs": [],
   "metadata": {}
  },
  {
   "cell_type": "markdown",
   "source": [
    "## Agora é sua vez!"
   ],
   "metadata": {}
  },
  {
   "cell_type": "markdown",
   "source": [
    "**1) Crie um dicionário com seu nome, telefone e email. Mostre agora somente as chaves desse dicionário!**"
   ],
   "metadata": {}
  },
  {
   "cell_type": "code",
   "execution_count": 1,
   "source": [
    "dic = {\n",
    "    \"nome\": \"Mariama Oliveira\",\n",
    "    \"telefone\": \"3134-2141\",\n",
    "    \"email\": \"mcso@cin.ufpe.br\"\n",
    "}\n",
    "\n",
    "dic.keys()"
   ],
   "outputs": [
    {
     "output_type": "execute_result",
     "data": {
      "text/plain": [
       "dict_keys(['nome', 'telefone', 'email'])"
      ]
     },
     "metadata": {},
     "execution_count": 1
    }
   ],
   "metadata": {}
  },
  {
   "cell_type": "markdown",
   "source": [
    "**2) Adicione o seu trabalho neste dicionário**"
   ],
   "metadata": {}
  },
  {
   "cell_type": "code",
   "execution_count": 2,
   "source": [
    "dic[\"trabalho\"]= \"estudante\""
   ],
   "outputs": [],
   "metadata": {}
  },
  {
   "cell_type": "markdown",
   "source": [
    "**3) Remova o dado de telefone do seu dicionário**"
   ],
   "metadata": {}
  },
  {
   "cell_type": "code",
   "execution_count": 3,
   "source": [
    "dic.pop(\"telefone\")\n",
    "dic"
   ],
   "outputs": [
    {
     "output_type": "execute_result",
     "data": {
      "text/plain": [
       "{'nome': 'Mariama Oliveira',\n",
       " 'email': 'mcso@cin.ufpe.br',\n",
       " 'trabalho': 'estudante'}"
      ]
     },
     "metadata": {},
     "execution_count": 3
    }
   ],
   "metadata": {}
  },
  {
   "cell_type": "markdown",
   "source": [
    "**4) Crie um lista com 5 nomes e uma lista com 5 telefones. Crie um dicionário a partir d**"
   ],
   "metadata": {}
  },
  {
   "cell_type": "code",
   "execution_count": 5,
   "source": [
    "listaNomes = [\"Paulo\", \"Karla\", \"Rafael\", \"Claudia\", \"Maria\"]\n",
    "listaTelefones = [\"1431324\", \"6634134\", \"6421233\", \"96414134\", \"81413412\"]\n",
    "dicFinal = dict(zip(listaNomes, listaTelefones))\n",
    "dicFinal"
   ],
   "outputs": [
    {
     "output_type": "execute_result",
     "data": {
      "text/plain": [
       "{'Paulo': '1431324',\n",
       " 'Karla': '6634134',\n",
       " 'Rafael': '6421233',\n",
       " 'Claudia': '96414134',\n",
       " 'Maria': '81413412'}"
      ]
     },
     "metadata": {},
     "execution_count": 5
    }
   ],
   "metadata": {}
  }
 ],
 "metadata": {
  "kernelspec": {
   "name": "python3",
   "display_name": "Python 3.8.8 64-bit (conda)"
  },
  "language_info": {
   "codemirror_mode": {
    "name": "ipython",
    "version": 3
   },
   "file_extension": ".py",
   "mimetype": "text/x-python",
   "name": "python",
   "nbconvert_exporter": "python",
   "pygments_lexer": "ipython3",
   "version": "3.8.8"
  },
  "interpreter": {
   "hash": "497a55ccd77967726baf9146ac7e5bf5a87dae2093827daa4f01845c45abeec8"
  }
 },
 "nbformat": 4,
 "nbformat_minor": 1
}