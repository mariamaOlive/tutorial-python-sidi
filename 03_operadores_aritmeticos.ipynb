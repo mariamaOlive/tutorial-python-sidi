{
 "cells": [
  {
   "cell_type": "markdown",
   "source": [
    "# Curso de Python Básico\n",
    "\n",
    "Este é um curso básico de python que tem o objetivo de apresentar a linguagem python de uma **maneira rápida e objetiva**. Vamos direto ao ponto nos conceitos básicos da programação e python com muita mão na massa! \n",
    "\n",
    "Neste curso, vamos trabalhar no **modo iterativo** do python. Porém, entenda que você pode trabalhar no modo script com várias linhas de código usando um arquivo no formato .py.\n",
    "\n",
    "Ao final desse Curso, espero que você se aprenda python e se motive cada vez mais em utilizar a linguagem para diversas tarefas e problemas do mundo real.\n",
    "\n",
    "Este notebook vai apenas passar pelos tópicos básicos em ordem:\n",
    "\n",
    "* 1. Conceitos Básicos\n",
    "    * 1.7 Operadores Aritméticos"
   ],
   "metadata": {}
  },
  {
   "cell_type": "markdown",
   "source": [
    "##  1. Conceitos Básicos"
   ],
   "metadata": {}
  },
  {
   "cell_type": "markdown",
   "source": [
    "#### 1.7 Operadores Aritiméticos\n",
    "- Adição\n",
    "- Subtração\n",
    "- Multiplicação\n",
    "- Divisão\n",
    "- Expondenciação\n",
    "- Resto da divisão"
   ],
   "metadata": {
    "ExecuteTime": {
     "end_time": "2021-08-27T12:58:36.352675Z",
     "start_time": "2021-08-27T12:58:36.344676Z"
    }
   }
  },
  {
   "cell_type": "code",
   "execution_count": 1,
   "source": [
    "# adição\n",
    "1 + 1"
   ],
   "outputs": [
    {
     "output_type": "execute_result",
     "data": {
      "text/plain": [
       "2"
      ]
     },
     "metadata": {},
     "execution_count": 1
    }
   ],
   "metadata": {}
  },
  {
   "cell_type": "code",
   "execution_count": 2,
   "source": [
    "# multiplicação\n",
    "1 * 3"
   ],
   "outputs": [
    {
     "output_type": "execute_result",
     "data": {
      "text/plain": [
       "3"
      ]
     },
     "metadata": {},
     "execution_count": 2
    }
   ],
   "metadata": {}
  },
  {
   "cell_type": "code",
   "execution_count": 3,
   "source": [
    "# Divisão (float)\n",
    "1 / 2"
   ],
   "outputs": [
    {
     "output_type": "execute_result",
     "data": {
      "text/plain": [
       "0.5"
      ]
     },
     "metadata": {},
     "execution_count": 3
    }
   ],
   "metadata": {}
  },
  {
   "cell_type": "code",
   "execution_count": 4,
   "source": [
    "# Expondenciação\n",
    "2 ** 4"
   ],
   "outputs": [
    {
     "output_type": "execute_result",
     "data": {
      "text/plain": [
       "16"
      ]
     },
     "metadata": {},
     "execution_count": 4
    }
   ],
   "metadata": {}
  },
  {
   "cell_type": "code",
   "execution_count": 5,
   "source": [
    "# Resto da divisão\n",
    "4 % 2"
   ],
   "outputs": [
    {
     "output_type": "execute_result",
     "data": {
      "text/plain": [
       "0"
      ]
     },
     "metadata": {},
     "execution_count": 5
    }
   ],
   "metadata": {}
  },
  {
   "cell_type": "code",
   "execution_count": 6,
   "source": [
    "(2 + 3) * (5 + 5) "
   ],
   "outputs": [
    {
     "output_type": "execute_result",
     "data": {
      "text/plain": [
       "50"
      ]
     },
     "metadata": {},
     "execution_count": 6
    }
   ],
   "metadata": {}
  },
  {
   "cell_type": "markdown",
   "source": [
    "##### 1.7.1 Ordem das operações\n",
    "\n",
    "Quando uma expressão contém mais de um operador, a ordem da avaliação depende da ordem das operações. Para operadores matemáticos o python segue a conversão matemática. O acrônimo **PEMDAS** pode ser útil para lembrar das regras \n",
    "- P: Parenteses\n",
    "- E: Exponenciação\n",
    "- M: Multiplicação\n",
    "- D: Divisão\n",
    "- A: Adição\n",
    "- S: Subtração:\n",
    "\n",
    "**Parenteses** tem a precedência mais alta e pode ser usado para força a ordem de uma expressão. A **Exponenciação** tem a próxima precedência mais alta. A **Multiplicação e a Divisão** tem a precedência mais alta do que a **adição e subtração**.Operadores com a mesma precedência são avaliados da esquerda para direita.\n",
    "        "
   ],
   "metadata": {
    "ExecuteTime": {
     "end_time": "2021-08-27T13:02:00.190683Z",
     "start_time": "2021-08-27T13:02:00.173684Z"
    }
   }
  },
  {
   "cell_type": "code",
   "execution_count": 7,
   "source": [
    "(1 + 2) * 4"
   ],
   "outputs": [
    {
     "output_type": "execute_result",
     "data": {
      "text/plain": [
       "12"
      ]
     },
     "metadata": {},
     "execution_count": 7
    }
   ],
   "metadata": {
    "ExecuteTime": {
     "end_time": "2021-08-27T13:03:55.098550Z",
     "start_time": "2021-08-27T13:03:55.080551Z"
    }
   }
  },
  {
   "cell_type": "code",
   "execution_count": 8,
   "source": [
    "2 * 2 ** 3 "
   ],
   "outputs": [
    {
     "output_type": "execute_result",
     "data": {
      "text/plain": [
       "16"
      ]
     },
     "metadata": {},
     "execution_count": 8
    }
   ],
   "metadata": {
    "ExecuteTime": {
     "end_time": "2021-08-27T13:04:14.731243Z",
     "start_time": "2021-08-27T13:04:14.727245Z"
    }
   }
  },
  {
   "cell_type": "code",
   "execution_count": 9,
   "source": [
    "2 + 5 * 2"
   ],
   "outputs": [
    {
     "output_type": "execute_result",
     "data": {
      "text/plain": [
       "12"
      ]
     },
     "metadata": {},
     "execution_count": 9
    }
   ],
   "metadata": {
    "ExecuteTime": {
     "end_time": "2021-08-27T13:04:38.852360Z",
     "start_time": "2021-08-27T13:04:38.847363Z"
    }
   }
  },
  {
   "cell_type": "code",
   "execution_count": 10,
   "source": [
    "2 + 10 / 2"
   ],
   "outputs": [
    {
     "output_type": "execute_result",
     "data": {
      "text/plain": [
       "7.0"
      ]
     },
     "metadata": {},
     "execution_count": 10
    }
   ],
   "metadata": {
    "ExecuteTime": {
     "end_time": "2021-08-27T13:04:54.907281Z",
     "start_time": "2021-08-27T13:04:54.902283Z"
    }
   }
  },
  {
   "cell_type": "code",
   "execution_count": null,
   "source": [
    "(1 + 2) ** 2 * 10 / 2 + 11 - 1"
   ],
   "outputs": [],
   "metadata": {
    "ExecuteTime": {
     "end_time": "2021-08-27T13:06:06.669559Z",
     "start_time": "2021-08-27T13:06:06.664558Z"
    }
   }
  },
  {
   "cell_type": "markdown",
   "source": [
    "## Agora é sua vez!"
   ],
   "metadata": {}
  },
  {
   "cell_type": "markdown",
   "source": [
    "**1) Quanto é 7 elevado na potência 4?**"
   ],
   "metadata": {}
  },
  {
   "cell_type": "code",
   "execution_count": 1,
   "source": [
    "resultado = 7**4\n",
    "print(resultado)"
   ],
   "outputs": [
    {
     "output_type": "stream",
     "name": "stdout",
     "text": [
      "2401\n"
     ]
    }
   ],
   "metadata": {}
  },
  {
   "cell_type": "markdown",
   "source": [
    "**2) Qual o resultado da seguinte expressão: (5 + 8) ** 2 * 10 / 2 + 11 - 1** Descreva a ordem que ocorre as operações!"
   ],
   "metadata": {}
  },
  {
   "cell_type": "code",
   "execution_count": 2,
   "source": [
    "operacao = (5 + 8) ** 2 * 10 / 2 + 11 - 1\n",
    "print(operacao)"
   ],
   "outputs": [
    {
     "output_type": "stream",
     "name": "stdout",
     "text": [
      "855.0\n"
     ]
    }
   ],
   "metadata": {}
  },
  {
   "cell_type": "markdown",
   "source": [
    "###### - descreva a ordem das operações em tópicos\n",
    "    - (5+8)\n",
    "    - (5+8)**2\n",
    "    - ((5+8)**2)*10\n",
    "    - (((5+8)**2)*10)/2\n",
    "    - ((((5+8)**2)*10)/2)+11\n",
    "    - (((((5+8)**2)*10)/2)+11)-1\n"
   ],
   "metadata": {}
  },
  {
   "cell_type": "markdown",
   "source": [
    "**3) Explique o resultado da seguinte expressão: 5 + 8 ** 2 * 10 / 2 + 11 - 1** Descreva a ordem que ocorre as operações!"
   ],
   "metadata": {}
  },
  {
   "cell_type": "code",
   "execution_count": null,
   "source": [
    "operacao = 5 + 8 ** 2 * 10 / 2 + 11 - 1\n",
    "print(operacao)"
   ],
   "outputs": [],
   "metadata": {}
  },
  {
   "cell_type": "markdown",
   "source": [
    "    - (8 ** 2) \n",
    "    - (8 ** 2) * 10 \n",
    "    - ((8 ** 2) * 10) / 2 \n",
    "    - 5 + (((8 ** 2) * 10) / 2 )\n",
    "    - (5 + (((8 ** 2) * 10) / 2 )) + 11\n",
    "    - ((5 + (((8 ** 2) * 10) / 2 )) + 11) - 1\n"
   ],
   "metadata": {}
  },
  {
   "cell_type": "markdown",
   "source": [
    "**4) Explique o resultado da seguinte expressão: 5 + 8 ** 2 * 10 / 2 + 11 - 1**. Descreva a ordem que ocorre as operações!"
   ],
   "metadata": {}
  },
  {
   "cell_type": "code",
   "execution_count": null,
   "source": [
    "#Mesma expressão do caso 3"
   ],
   "outputs": [],
   "metadata": {}
  }
 ],
 "metadata": {
  "kernelspec": {
   "name": "python3",
   "display_name": "Python 3.8.11 64-bit ('new_env': conda)"
  },
  "language_info": {
   "codemirror_mode": {
    "name": "ipython",
    "version": 3
   },
   "file_extension": ".py",
   "mimetype": "text/x-python",
   "name": "python",
   "nbconvert_exporter": "python",
   "pygments_lexer": "ipython3",
   "version": "3.8.11"
  },
  "interpreter": {
   "hash": "f2764d3c46826080d78b33f2b6b2877be3ac4ddefe2d527bb4d290c4312cd698"
  }
 },
 "nbformat": 4,
 "nbformat_minor": 1
}